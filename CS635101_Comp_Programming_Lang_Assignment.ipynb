{
  "nbformat": 4,
  "nbformat_minor": 0,
  "metadata": {
    "colab": {
      "name": "CS635101_Comp_Programming_Lang_Assignment.ipynb",
      "provenance": [],
      "include_colab_link": true
    },
    "kernelspec": {
      "name": "python3",
      "display_name": "Python 3"
    },
    "language_info": {
      "name": "python"
    }
  },
  "cells": [
    {
      "cell_type": "markdown",
      "metadata": {
        "id": "view-in-github",
        "colab_type": "text"
      },
      "source": [
        "<a href=\"https://colab.research.google.com/github/Ramachetan/Comp-Programming-Lang/blob/main/CS635101_Comp_Programming_Lang_Assignment.ipynb\" target=\"_parent\"><img src=\"https://colab.research.google.com/assets/colab-badge.svg\" alt=\"Open In Colab\"/></a>"
      ]
    },
    {
      "cell_type": "code",
      "metadata": {
        "id": "2J_94sAs0Txw"
      },
      "source": [
        "import pandas as pd\n",
        "import urllib.request"
      ],
      "execution_count": null,
      "outputs": []
    },
    {
      "cell_type": "code",
      "metadata": {
        "id": "BGJ3i62l0XsE"
      },
      "source": [
        "target_url = \"https://www.celestrak.com/NORAD/elements/geo.txt\""
      ],
      "execution_count": null,
      "outputs": []
    },
    {
      "cell_type": "code",
      "metadata": {
        "id": "A25mDK7M0z9s"
      },
      "source": [
        "content = [\" \".join(line.decode('utf-8').split()) for line in urllib.request.urlopen(target_url)]"
      ],
      "execution_count": null,
      "outputs": []
    },
    {
      "cell_type": "code",
      "metadata": {
        "id": "6FxYBKwV2Spr"
      },
      "source": [
        "station_name = []\n",
        "station_info_1 = []\n",
        "station_info_2 = []\n",
        "\n",
        "for index, line in enumerate(content):\n",
        "    if index % 3 == 0:\n",
        "        station_name.append(line)\n",
        "    elif index % 3 == 1:\n",
        "        station_info_1.append(f\"{line}\")\n",
        "    else:\n",
        "        station_info_2.append(f\"{line}\")"
      ],
      "execution_count": null,
      "outputs": []
    },
    {
      "cell_type": "code",
      "metadata": {
        "colab": {
          "base_uri": "https://localhost:8080/",
          "height": 206
        },
        "id": "QPsoy1K94jGv",
        "outputId": "1dfad089-9adf-411d-d066-15515eb593cd"
      },
      "source": [
        "stadata = pd.DataFrame([[station_name[i]] + row.split() for i, row in enumerate(station_info_2)])\n",
        "stadata.head()"
      ],
      "execution_count": null,
      "outputs": [
        {
          "output_type": "execute_result",
          "data": {
            "text/html": [
              "<div>\n",
              "<style scoped>\n",
              "    .dataframe tbody tr th:only-of-type {\n",
              "        vertical-align: middle;\n",
              "    }\n",
              "\n",
              "    .dataframe tbody tr th {\n",
              "        vertical-align: top;\n",
              "    }\n",
              "\n",
              "    .dataframe thead th {\n",
              "        text-align: right;\n",
              "    }\n",
              "</style>\n",
              "<table border=\"1\" class=\"dataframe\">\n",
              "  <thead>\n",
              "    <tr style=\"text-align: right;\">\n",
              "      <th></th>\n",
              "      <th>0</th>\n",
              "      <th>1</th>\n",
              "      <th>2</th>\n",
              "      <th>3</th>\n",
              "      <th>4</th>\n",
              "      <th>5</th>\n",
              "      <th>6</th>\n",
              "      <th>7</th>\n",
              "      <th>8</th>\n",
              "      <th>9</th>\n",
              "    </tr>\n",
              "  </thead>\n",
              "  <tbody>\n",
              "    <tr>\n",
              "      <th>0</th>\n",
              "      <td>TDRS 3</td>\n",
              "      <td>2</td>\n",
              "      <td>19548</td>\n",
              "      <td>13.8650</td>\n",
              "      <td>353.0176</td>\n",
              "      <td>0037519</td>\n",
              "      <td>322.9804</td>\n",
              "      <td>229.8058</td>\n",
              "      <td>1.00264940108605</td>\n",
              "      <td>None</td>\n",
              "    </tr>\n",
              "    <tr>\n",
              "      <th>1</th>\n",
              "      <td>FLTSATCOM 8 (USA 46)</td>\n",
              "      <td>2</td>\n",
              "      <td>20253</td>\n",
              "      <td>12.9201</td>\n",
              "      <td>1.6876</td>\n",
              "      <td>0003032</td>\n",
              "      <td>148.1847</td>\n",
              "      <td>357.1412</td>\n",
              "      <td>1.00273011243825</td>\n",
              "      <td>None</td>\n",
              "    </tr>\n",
              "    <tr>\n",
              "      <th>2</th>\n",
              "      <td>SKYNET 4C</td>\n",
              "      <td>2</td>\n",
              "      <td>20776</td>\n",
              "      <td>13.8650</td>\n",
              "      <td>1.6918</td>\n",
              "      <td>0003401</td>\n",
              "      <td>234.5181</td>\n",
              "      <td>256.6953</td>\n",
              "      <td>1.00266772114108</td>\n",
              "      <td>None</td>\n",
              "    </tr>\n",
              "    <tr>\n",
              "      <th>3</th>\n",
              "      <td>TDRS 5</td>\n",
              "      <td>2</td>\n",
              "      <td>21639</td>\n",
              "      <td>14.2506</td>\n",
              "      <td>6.3489</td>\n",
              "      <td>0021899</td>\n",
              "      <td>354.8874</td>\n",
              "      <td>328.7345</td>\n",
              "      <td>1.00280306110924</td>\n",
              "      <td>None</td>\n",
              "    </tr>\n",
              "    <tr>\n",
              "      <th>4</th>\n",
              "      <td>TDRS 6</td>\n",
              "      <td>2</td>\n",
              "      <td>22314</td>\n",
              "      <td>14.1151</td>\n",
              "      <td>9.5598</td>\n",
              "      <td>0006744</td>\n",
              "      <td>117.7037</td>\n",
              "      <td>61.9066</td>\n",
              "      <td>1.00277063105628</td>\n",
              "      <td>None</td>\n",
              "    </tr>\n",
              "  </tbody>\n",
              "</table>\n",
              "</div>"
            ],
            "text/plain": [
              "                      0  1      2  ...         7                 8     9\n",
              "0                TDRS 3  2  19548  ...  229.8058  1.00264940108605  None\n",
              "1  FLTSATCOM 8 (USA 46)  2  20253  ...  357.1412  1.00273011243825  None\n",
              "2             SKYNET 4C  2  20776  ...  256.6953  1.00266772114108  None\n",
              "3                TDRS 5  2  21639  ...  328.7345  1.00280306110924  None\n",
              "4                TDRS 6  2  22314  ...   61.9066  1.00277063105628  None\n",
              "\n",
              "[5 rows x 10 columns]"
            ]
          },
          "metadata": {},
          "execution_count": 5
        }
      ]
    },
    {
      "cell_type": "code",
      "metadata": {
        "colab": {
          "base_uri": "https://localhost:8080/",
          "height": 426
        },
        "id": "25o9PrIV8BSE",
        "outputId": "04e77682-6bac-4e7f-8a8f-9b303b6ba3c0"
      },
      "source": [
        "sta_above_45 = stadata[stadata[3].astype(float) >= 45]\n",
        "sta_above_45"
      ],
      "execution_count": null,
      "outputs": [
        {
          "output_type": "execute_result",
          "data": {
            "text/html": [
              "<div>\n",
              "<style scoped>\n",
              "    .dataframe tbody tr th:only-of-type {\n",
              "        vertical-align: middle;\n",
              "    }\n",
              "\n",
              "    .dataframe tbody tr th {\n",
              "        vertical-align: top;\n",
              "    }\n",
              "\n",
              "    .dataframe thead th {\n",
              "        text-align: right;\n",
              "    }\n",
              "</style>\n",
              "<table border=\"1\" class=\"dataframe\">\n",
              "  <thead>\n",
              "    <tr style=\"text-align: right;\">\n",
              "      <th></th>\n",
              "      <th>0</th>\n",
              "      <th>1</th>\n",
              "      <th>2</th>\n",
              "      <th>3</th>\n",
              "      <th>4</th>\n",
              "      <th>5</th>\n",
              "      <th>6</th>\n",
              "      <th>7</th>\n",
              "      <th>8</th>\n",
              "      <th>9</th>\n",
              "    </tr>\n",
              "  </thead>\n",
              "  <tbody>\n",
              "    <tr>\n",
              "      <th>205</th>\n",
              "      <td>BEIDOU 5</td>\n",
              "      <td>2</td>\n",
              "      <td>36828</td>\n",
              "      <td>54.1793</td>\n",
              "      <td>178.1946</td>\n",
              "      <td>0023377</td>\n",
              "      <td>175.9860</td>\n",
              "      <td>266.5322</td>\n",
              "      <td>1.00259618</td>\n",
              "      <td>41443</td>\n",
              "    </tr>\n",
              "    <tr>\n",
              "      <th>218</th>\n",
              "      <td>BEIDOU 7</td>\n",
              "      <td>2</td>\n",
              "      <td>37256</td>\n",
              "      <td>50.5956</td>\n",
              "      <td>292.1901</td>\n",
              "      <td>0017088</td>\n",
              "      <td>191.5262</td>\n",
              "      <td>276.7730</td>\n",
              "      <td>1.00260363</td>\n",
              "      <td>40017</td>\n",
              "    </tr>\n",
              "    <tr>\n",
              "      <th>222</th>\n",
              "      <td>BEIDOU 8</td>\n",
              "      <td>2</td>\n",
              "      <td>37384</td>\n",
              "      <td>59.9855</td>\n",
              "      <td>56.3853</td>\n",
              "      <td>0019513</td>\n",
              "      <td>185.3377</td>\n",
              "      <td>20.0296</td>\n",
              "      <td>1.00266404</td>\n",
              "      <td>38880</td>\n",
              "    </tr>\n",
              "    <tr>\n",
              "      <th>234</th>\n",
              "      <td>BEIDOU 9</td>\n",
              "      <td>2</td>\n",
              "      <td>37763</td>\n",
              "      <td>54.4655</td>\n",
              "      <td>180.6598</td>\n",
              "      <td>0086201</td>\n",
              "      <td>225.9563</td>\n",
              "      <td>44.5331</td>\n",
              "      <td>1.00279097</td>\n",
              "      <td>37851</td>\n",
              "    </tr>\n",
              "    <tr>\n",
              "      <th>247</th>\n",
              "      <td>BEIDOU 10</td>\n",
              "      <td>2</td>\n",
              "      <td>37948</td>\n",
              "      <td>50.7072</td>\n",
              "      <td>291.8178</td>\n",
              "      <td>0078146</td>\n",
              "      <td>218.6844</td>\n",
              "      <td>137.3207</td>\n",
              "      <td>1.00258882</td>\n",
              "      <td>36612</td>\n",
              "    </tr>\n",
              "    <tr>\n",
              "      <th>347</th>\n",
              "      <td>BEIDOU 17</td>\n",
              "      <td>2</td>\n",
              "      <td>40549</td>\n",
              "      <td>52.2465</td>\n",
              "      <td>315.2303</td>\n",
              "      <td>0037749</td>\n",
              "      <td>191.1978</td>\n",
              "      <td>131.0634</td>\n",
              "      <td>1.00288691</td>\n",
              "      <td>24291</td>\n",
              "    </tr>\n",
              "    <tr>\n",
              "      <th>362</th>\n",
              "      <td>BEIDOU 20</td>\n",
              "      <td>2</td>\n",
              "      <td>40938</td>\n",
              "      <td>51.8345</td>\n",
              "      <td>278.3216</td>\n",
              "      <td>0044155</td>\n",
              "      <td>196.3259</td>\n",
              "      <td>135.5633</td>\n",
              "      <td>1.00293946</td>\n",
              "      <td>22560</td>\n",
              "    </tr>\n",
              "    <tr>\n",
              "      <th>384</th>\n",
              "      <td>BEIDOU IGSO-6</td>\n",
              "      <td>2</td>\n",
              "      <td>41434</td>\n",
              "      <td>57.7881</td>\n",
              "      <td>55.0618</td>\n",
              "      <td>0044627</td>\n",
              "      <td>212.3860</td>\n",
              "      <td>148.4106</td>\n",
              "      <td>1.00283451</td>\n",
              "      <td>20699</td>\n",
              "    </tr>\n",
              "    <tr>\n",
              "      <th>460</th>\n",
              "      <td>BEIDOU IGSO-7</td>\n",
              "      <td>2</td>\n",
              "      <td>43539</td>\n",
              "      <td>55.0607</td>\n",
              "      <td>177.5964</td>\n",
              "      <td>0040336</td>\n",
              "      <td>221.7597</td>\n",
              "      <td>320.7613</td>\n",
              "      <td>1.00275408</td>\n",
              "      <td>12379</td>\n",
              "    </tr>\n",
              "    <tr>\n",
              "      <th>484</th>\n",
              "      <td>BEIDOU-3 IGSO-1</td>\n",
              "      <td>2</td>\n",
              "      <td>44204</td>\n",
              "      <td>56.2436</td>\n",
              "      <td>55.2726</td>\n",
              "      <td>0023275</td>\n",
              "      <td>188.4635</td>\n",
              "      <td>66.0205</td>\n",
              "      <td>1.00275363</td>\n",
              "      <td>9570</td>\n",
              "    </tr>\n",
              "    <tr>\n",
              "      <th>489</th>\n",
              "      <td>BEIDOU-3 IGSO-2</td>\n",
              "      <td>2</td>\n",
              "      <td>44337</td>\n",
              "      <td>55.0978</td>\n",
              "      <td>173.6336</td>\n",
              "      <td>0020471</td>\n",
              "      <td>178.1072</td>\n",
              "      <td>257.7910</td>\n",
              "      <td>1.00265932</td>\n",
              "      <td>8913</td>\n",
              "    </tr>\n",
              "    <tr>\n",
              "      <th>498</th>\n",
              "      <td>BEIDOU-3 IGSO-3</td>\n",
              "      <td>2</td>\n",
              "      <td>44709</td>\n",
              "      <td>57.6056</td>\n",
              "      <td>298.5937</td>\n",
              "      <td>0019471</td>\n",
              "      <td>187.2228</td>\n",
              "      <td>40.8435</td>\n",
              "      <td>1.00271519</td>\n",
              "      <td>7669</td>\n",
              "    </tr>\n",
              "  </tbody>\n",
              "</table>\n",
              "</div>"
            ],
            "text/plain": [
              "                   0  1      2        3  ...         6         7           8      9\n",
              "205         BEIDOU 5  2  36828  54.1793  ...  175.9860  266.5322  1.00259618  41443\n",
              "218         BEIDOU 7  2  37256  50.5956  ...  191.5262  276.7730  1.00260363  40017\n",
              "222         BEIDOU 8  2  37384  59.9855  ...  185.3377   20.0296  1.00266404  38880\n",
              "234         BEIDOU 9  2  37763  54.4655  ...  225.9563   44.5331  1.00279097  37851\n",
              "247        BEIDOU 10  2  37948  50.7072  ...  218.6844  137.3207  1.00258882  36612\n",
              "347        BEIDOU 17  2  40549  52.2465  ...  191.1978  131.0634  1.00288691  24291\n",
              "362        BEIDOU 20  2  40938  51.8345  ...  196.3259  135.5633  1.00293946  22560\n",
              "384    BEIDOU IGSO-6  2  41434  57.7881  ...  212.3860  148.4106  1.00283451  20699\n",
              "460    BEIDOU IGSO-7  2  43539  55.0607  ...  221.7597  320.7613  1.00275408  12379\n",
              "484  BEIDOU-3 IGSO-1  2  44204  56.2436  ...  188.4635   66.0205  1.00275363   9570\n",
              "489  BEIDOU-3 IGSO-2  2  44337  55.0978  ...  178.1072  257.7910  1.00265932   8913\n",
              "498  BEIDOU-3 IGSO-3  2  44709  57.6056  ...  187.2228   40.8435  1.00271519   7669\n",
              "\n",
              "[12 rows x 10 columns]"
            ]
          },
          "metadata": {},
          "execution_count": 6
        }
      ]
    },
    {
      "cell_type": "code",
      "metadata": {
        "id": "mvj5QQDC7TW_"
      },
      "source": [
        "station_name_above_45 = sta_above_45[0]"
      ],
      "execution_count": null,
      "outputs": []
    },
    {
      "cell_type": "code",
      "metadata": {
        "colab": {
          "base_uri": "https://localhost:8080/"
        },
        "id": "Ez5d5n7Y8ivr",
        "outputId": "51d2f854-b0bb-40bd-fb7a-72976bf3bb8c"
      },
      "source": [
        "print(station_name_above_45)"
      ],
      "execution_count": null,
      "outputs": [
        {
          "output_type": "stream",
          "name": "stdout",
          "text": [
            "205           BEIDOU 5\n",
            "218           BEIDOU 7\n",
            "222           BEIDOU 8\n",
            "234           BEIDOU 9\n",
            "247          BEIDOU 10\n",
            "347          BEIDOU 17\n",
            "362          BEIDOU 20\n",
            "384      BEIDOU IGSO-6\n",
            "460      BEIDOU IGSO-7\n",
            "484    BEIDOU-3 IGSO-1\n",
            "489    BEIDOU-3 IGSO-2\n",
            "498    BEIDOU-3 IGSO-3\n",
            "Name: 0, dtype: object\n"
          ]
        }
      ]
    },
    {
      "cell_type": "code",
      "metadata": {
        "id": "LQjrZckW8jpm"
      },
      "source": [
        "with open('satellite_name.txt', 'w') as f:\n",
        "    for name in station_name_above_45:\n",
        "        f.write(\"%s\\n\" % name)"
      ],
      "execution_count": null,
      "outputs": []
    }
  ]
}